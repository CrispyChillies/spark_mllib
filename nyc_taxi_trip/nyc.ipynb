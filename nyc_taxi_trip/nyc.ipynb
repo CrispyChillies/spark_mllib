{
 "cells": [
  {
   "cell_type": "markdown",
   "id": "11944f28",
   "metadata": {},
   "source": [
    "# Lab 3 - Regression\n",
    "- Structured API Approach"
   ]
  },
  {
   "cell_type": "code",
   "execution_count": 26,
   "id": "f06036ec",
   "metadata": {},
   "outputs": [],
   "source": [
    "from pyspark.sql import SparkSession\n",
    "import os\n",
    "\n",
    "# Set JAVA_HOME explicitly\n",
    "os.environ['JAVA_HOME'] = '/usr/lib/jvm/java-21-openjdk-amd64'\n",
    "\n",
    "spark = SparkSession.builder \\\n",
    "    .appName(\"MySparkApp\") \\\n",
    "    .config(\"spark.driver.memory\", \"2g\") \\\n",
    "    .getOrCreate()"
   ]
  },
  {
   "cell_type": "code",
   "execution_count": 27,
   "id": "b3be062b",
   "metadata": {},
   "outputs": [
    {
     "data": {
      "text/html": [
       "\n",
       "            <div>\n",
       "                <p><b>SparkSession - in-memory</b></p>\n",
       "                \n",
       "        <div>\n",
       "            <p><b>SparkContext</b></p>\n",
       "\n",
       "            <p><a href=\"http://192.168.1.35:4041\">Spark UI</a></p>\n",
       "\n",
       "            <dl>\n",
       "              <dt>Version</dt>\n",
       "                <dd><code>v4.0.0</code></dd>\n",
       "              <dt>Master</dt>\n",
       "                <dd><code>local[*]</code></dd>\n",
       "              <dt>AppName</dt>\n",
       "                <dd><code>MySparkApp</code></dd>\n",
       "            </dl>\n",
       "        </div>\n",
       "        \n",
       "            </div>\n",
       "        "
      ],
      "text/plain": [
       "<pyspark.sql.session.SparkSession at 0x7de9bc70b8c0>"
      ]
     },
     "execution_count": 27,
     "metadata": {},
     "output_type": "execute_result"
    }
   ],
   "source": [
    "spark   "
   ]
  },
  {
   "cell_type": "code",
   "execution_count": 28,
   "id": "24b603e8",
   "metadata": {},
   "outputs": [
    {
     "name": "stderr",
     "output_type": "stream",
     "text": [
      "                                                                                \r"
     ]
    }
   ],
   "source": [
    "test = spark.read.format('csv').load(\"/home/aaronpham/Coding/bigdata/spark/spark_mllib/data/nyc-taxi-trip-duration/test.csv\", header=True, inferSchema=True)\n",
    "\n",
    "train = spark.read.format('csv').load(\"/home/aaronpham/Coding/bigdata/spark/spark_mllib/data/nyc-taxi-trip-duration/train.csv\", header=True, inferSchema=True)"
   ]
  },
  {
   "cell_type": "code",
   "execution_count": 29,
   "id": "3a39d5d4",
   "metadata": {},
   "outputs": [],
   "source": [
    "sample = spark.read.format('csv').load(\"/home/aaronpham/Coding/bigdata/spark/spark_mllib/data/nyc-taxi-trip-duration/sample_submission.csv\", header=True, inferSchema=True)"
   ]
  },
  {
   "cell_type": "code",
   "execution_count": 30,
   "id": "e708b7ef",
   "metadata": {},
   "outputs": [
    {
     "name": "stdout",
     "output_type": "stream",
     "text": [
      "+---------+-------------+\n",
      "|       id|trip_duration|\n",
      "+---------+-------------+\n",
      "|id3004672|          959|\n",
      "|id3505355|          959|\n",
      "+---------+-------------+\n",
      "only showing top 2 rows\n"
     ]
    }
   ],
   "source": [
    "sample.show(2)"
   ]
  },
  {
   "cell_type": "code",
   "execution_count": 31,
   "id": "a427a0b3",
   "metadata": {},
   "outputs": [
    {
     "name": "stdout",
     "output_type": "stream",
     "text": [
      "+---------+---------+-------------------+---------------+------------------+-----------------+------------------+-----------------+------------------+\n",
      "|       id|vendor_id|    pickup_datetime|passenger_count|  pickup_longitude|  pickup_latitude| dropoff_longitude| dropoff_latitude|store_and_fwd_flag|\n",
      "+---------+---------+-------------------+---------------+------------------+-----------------+------------------+-----------------+------------------+\n",
      "|id3004672|        1|2016-06-30 23:59:58|              1|-73.98812866210938|40.73202896118164|-73.99017333984375|40.75667953491211|                 N|\n",
      "|id3505355|        1|2016-06-30 23:59:53|              1|-73.96420288085938|40.67999267578125|-73.95980834960938|40.65540313720703|                 N|\n",
      "+---------+---------+-------------------+---------------+------------------+-----------------+------------------+-----------------+------------------+\n",
      "only showing top 2 rows\n"
     ]
    }
   ],
   "source": [
    "test.show(2)"
   ]
  },
  {
   "cell_type": "code",
   "execution_count": 32,
   "id": "8a1df3f8",
   "metadata": {},
   "outputs": [
    {
     "name": "stdout",
     "output_type": "stream",
     "text": [
      "root\n",
      " |-- id: string (nullable = true)\n",
      " |-- vendor_id: integer (nullable = true)\n",
      " |-- pickup_datetime: timestamp (nullable = true)\n",
      " |-- passenger_count: integer (nullable = true)\n",
      " |-- pickup_longitude: double (nullable = true)\n",
      " |-- pickup_latitude: double (nullable = true)\n",
      " |-- dropoff_longitude: double (nullable = true)\n",
      " |-- dropoff_latitude: double (nullable = true)\n",
      " |-- store_and_fwd_flag: string (nullable = true)\n",
      "\n"
     ]
    }
   ],
   "source": [
    "test.printSchema()"
   ]
  },
  {
   "cell_type": "code",
   "execution_count": 33,
   "id": "71409bc7",
   "metadata": {},
   "outputs": [
    {
     "name": "stdout",
     "output_type": "stream",
     "text": [
      "root\n",
      " |-- id: string (nullable = true)\n",
      " |-- vendor_id: integer (nullable = true)\n",
      " |-- pickup_datetime: timestamp (nullable = true)\n",
      " |-- dropoff_datetime: timestamp (nullable = true)\n",
      " |-- passenger_count: integer (nullable = true)\n",
      " |-- pickup_longitude: double (nullable = true)\n",
      " |-- pickup_latitude: double (nullable = true)\n",
      " |-- dropoff_longitude: double (nullable = true)\n",
      " |-- dropoff_latitude: double (nullable = true)\n",
      " |-- store_and_fwd_flag: string (nullable = true)\n",
      " |-- trip_duration: integer (nullable = true)\n",
      "\n"
     ]
    }
   ],
   "source": [
    "train.printSchema()"
   ]
  },
  {
   "cell_type": "code",
   "execution_count": 34,
   "id": "045d1ad7",
   "metadata": {},
   "outputs": [
    {
     "name": "stdout",
     "output_type": "stream",
     "text": [
      "+---------+---------+-------------------+---------------+------------------+-----------------+------------------+-----------------+------------------+\n",
      "|       id|vendor_id|    pickup_datetime|passenger_count|  pickup_longitude|  pickup_latitude| dropoff_longitude| dropoff_latitude|store_and_fwd_flag|\n",
      "+---------+---------+-------------------+---------------+------------------+-----------------+------------------+-----------------+------------------+\n",
      "|id3004672|        1|2016-06-30 23:59:58|              1|-73.98812866210938|40.73202896118164|-73.99017333984375|40.75667953491211|                 N|\n",
      "|id3505355|        1|2016-06-30 23:59:53|              1|-73.96420288085938|40.67999267578125|-73.95980834960938|40.65540313720703|                 N|\n",
      "+---------+---------+-------------------+---------------+------------------+-----------------+------------------+-----------------+------------------+\n",
      "only showing top 2 rows\n"
     ]
    }
   ],
   "source": [
    "test.show(2)  "
   ]
  },
  {
   "cell_type": "markdown",
   "id": "da65ef60",
   "metadata": {},
   "source": [
    "## Preprocess Data"
   ]
  },
  {
   "cell_type": "code",
   "execution_count": 35,
   "id": "388d7235",
   "metadata": {},
   "outputs": [
    {
     "name": "stderr",
     "output_type": "stream",
     "text": [
      "                                                                                \r"
     ]
    },
    {
     "name": "stdout",
     "output_type": "stream",
     "text": [
      "+---------+---------+-------------------+-------------------+---------------+------------------+------------------+------------------+------------------+------------------+-------------+\n",
      "|       id|vendor_id|    pickup_datetime|   dropoff_datetime|passenger_count|  pickup_longitude|   pickup_latitude| dropoff_longitude|  dropoff_latitude|store_and_fwd_flag|trip_duration|\n",
      "+---------+---------+-------------------+-------------------+---------------+------------------+------------------+------------------+------------------+------------------+-------------+\n",
      "|id2875421|        2|2016-03-14 17:24:55|2016-03-14 17:32:30|              1| -73.9821548461914| 40.76793670654297|-73.96463012695312|40.765602111816406|                 N|          455|\n",
      "|id2377394|        1|2016-06-12 00:43:35|2016-06-12 00:54:38|              1|-73.98041534423828|40.738563537597656|-73.99948120117188| 40.73115158081055|                 N|          663|\n",
      "|id3858529|        2|2016-01-19 11:35:24|2016-01-19 12:10:48|              1| -73.9790267944336|40.763938903808594|-74.00533294677734|40.710086822509766|                 N|         2124|\n",
      "+---------+---------+-------------------+-------------------+---------------+------------------+------------------+------------------+------------------+------------------+-------------+\n",
      "only showing top 3 rows\n"
     ]
    }
   ],
   "source": [
    "# Replace the null value with average value\n",
    "from pyspark.ml.feature import Imputer\n",
    "\n",
    "feature_cols = [\"pickup_longitude\", \"pickup_latitude\", \n",
    "    \"dropoff_longitude\", \"dropoff_latitude\", \n",
    "    \"passenger_count\"]\n",
    "\n",
    "imputer = Imputer(inputCols=feature_cols, outputCols=feature_cols)\n",
    "\n",
    "imputer = imputer.fit(train)\n",
    "train = imputer.transform(train)\n",
    "test = imputer.transform(test)\n",
    "\n",
    "train.show(3)"
   ]
  },
  {
   "cell_type": "code",
   "execution_count": 36,
   "id": "400282c8",
   "metadata": {},
   "outputs": [
    {
     "name": "stdout",
     "output_type": "stream",
     "text": [
      "+---------+---------+-------------------+-------------------+---------------+------------------+------------------+------------------+------------------+------------------+-------------+--------------------+\n",
      "|       id|vendor_id|    pickup_datetime|   dropoff_datetime|passenger_count|  pickup_longitude|   pickup_latitude| dropoff_longitude|  dropoff_latitude|store_and_fwd_flag|trip_duration|       features_cols|\n",
      "+---------+---------+-------------------+-------------------+---------------+------------------+------------------+------------------+------------------+------------------+-------------+--------------------+\n",
      "|id2875421|        2|2016-03-14 17:24:55|2016-03-14 17:32:30|              1| -73.9821548461914| 40.76793670654297|-73.96463012695312|40.765602111816406|                 N|          455|[-73.982154846191...|\n",
      "|id2377394|        1|2016-06-12 00:43:35|2016-06-12 00:54:38|              1|-73.98041534423828|40.738563537597656|-73.99948120117188| 40.73115158081055|                 N|          663|[-73.980415344238...|\n",
      "+---------+---------+-------------------+-------------------+---------------+------------------+------------------+------------------+------------------+------------------+-------------+--------------------+\n",
      "only showing top 2 rows\n"
     ]
    }
   ],
   "source": [
    "# Aggregate all the columns into one single feature column\n",
    "from pyspark.ml.feature import VectorAssembler\n",
    "\n",
    "features_assembler = VectorAssembler(inputCols=feature_cols, outputCol='features_cols')\n",
    "\n",
    "train = features_assembler.transform(train)\n",
    "test = features_assembler.transform(test)\n",
    "\n",
    "train.show(2)"
   ]
  },
  {
   "cell_type": "markdown",
   "id": "f6ec3b6d",
   "metadata": {},
   "source": [
    "## Train Decision Tree Regressor"
   ]
  },
  {
   "cell_type": "code",
   "execution_count": 37,
   "id": "d4e55d35",
   "metadata": {},
   "outputs": [
    {
     "name": "stderr",
     "output_type": "stream",
     "text": [
      "                                                                                \r"
     ]
    }
   ],
   "source": [
    "from pyspark.ml.regression import DecisionTreeRegressor\n",
    "\n",
    "dt = DecisionTreeRegressor(\n",
    "    featuresCol=\"features_cols\",\n",
    "    labelCol=\"trip_duration\",\n",
    "    maxDepth=10   \n",
    ")\n",
    "\n",
    "dt_model = dt.fit(train)\n"
   ]
  },
  {
   "cell_type": "code",
   "execution_count": 38,
   "id": "3c704ec7",
   "metadata": {},
   "outputs": [
    {
     "name": "stdout",
     "output_type": "stream",
     "text": [
      "+---------+---------+-------------------+---------------+------------------+-----------------+------------------+-----------------+------------------+--------------------+------------------+\n",
      "|       id|vendor_id|    pickup_datetime|passenger_count|  pickup_longitude|  pickup_latitude| dropoff_longitude| dropoff_latitude|store_and_fwd_flag|       features_cols|        prediction|\n",
      "+---------+---------+-------------------+---------------+------------------+-----------------+------------------+-----------------+------------------+--------------------+------------------+\n",
      "|id3004672|        1|2016-06-30 23:59:58|              1|-73.98812866210938|40.73202896118164|-73.99017333984375|40.75667953491211|                 N|[-73.988128662109...| 749.5248047836944|\n",
      "|id3505355|        1|2016-06-30 23:59:53|              1|-73.96420288085938|40.67999267578125|-73.95980834960938|40.65540313720703|                 N|[-73.964202880859...|1040.6451612903227|\n",
      "+---------+---------+-------------------+---------------+------------------+-----------------+------------------+-----------------+------------------+--------------------+------------------+\n",
      "only showing top 2 rows\n"
     ]
    }
   ],
   "source": [
    "predictions = dt_model.transform(test)\n",
    "predictions.show(2)"
   ]
  },
  {
   "cell_type": "markdown",
   "id": "f23b6007",
   "metadata": {},
   "source": [
    "## Evaluation"
   ]
  },
  {
   "cell_type": "code",
   "execution_count": 39,
   "id": "572dd804",
   "metadata": {},
   "outputs": [],
   "source": [
    "# # Join predictions with sample to get actual trip_duration values\n",
    "# predictions_with_actual = predictions.join(sample, on=\"id\", how=\"left\")\n",
    "# predictions_with_actual.show(5)"
   ]
  }
 ],
 "metadata": {
  "kernelspec": {
   "display_name": "venv (3.13.5)",
   "language": "python",
   "name": "python3"
  },
  "language_info": {
   "codemirror_mode": {
    "name": "ipython",
    "version": 3
   },
   "file_extension": ".py",
   "mimetype": "text/x-python",
   "name": "python",
   "nbconvert_exporter": "python",
   "pygments_lexer": "ipython3",
   "version": "3.13.5"
  }
 },
 "nbformat": 4,
 "nbformat_minor": 5
}
